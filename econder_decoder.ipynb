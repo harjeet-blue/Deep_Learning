{
  "nbformat": 4,
  "nbformat_minor": 0,
  "metadata": {
    "colab": {
      "name": "SML_A4_Q3.ipynb",
      "provenance": []
    },
    "kernelspec": {
      "name": "python3",
      "display_name": "Python 3"
    },
    "language_info": {
      "name": "python"
    }
  },
  "cells": [
    {
      "cell_type": "markdown",
      "source": [
        "# Harjeet Singh Yadav\n",
        "## CSAI - 2020561"
      ],
      "metadata": {
        "id": "l3VoUGHnTXBf"
      }
    },
    {
      "cell_type": "markdown",
      "source": [
        "# Importing important  libraries"
      ],
      "metadata": {
        "id": "wEENyvsZlDuC"
      }
    },
    {
      "cell_type": "code",
      "execution_count": 1,
      "metadata": {
        "id": "To91cr7CithG"
      },
      "outputs": [],
      "source": [
        "import tensorflow as tf  \n",
        "from tensorflow import keras\n",
        "import numpy as np\n",
        "import matplotlib.pyplot as plt\n",
        "import seaborn as sns"
      ]
    },
    {
      "cell_type": "markdown",
      "source": [
        "# Loading MNIST dataset"
      ],
      "metadata": {
        "id": "6LTnzuMRlJkf"
      }
    },
    {
      "cell_type": "code",
      "source": [
        "(x_train, y_train),(x_test, y_test) = tf.keras.datasets.mnist.load_data()  # loads the popular \"mnist\" training dataset"
      ],
      "metadata": {
        "id": "v3WxRlejlLnf",
        "colab": {
          "base_uri": "https://localhost:8080/"
        },
        "outputId": "0e638ecd-2227-4437-df2e-9dacdad8de37"
      },
      "execution_count": 2,
      "outputs": [
        {
          "output_type": "stream",
          "name": "stdout",
          "text": [
            "Downloading data from https://storage.googleapis.com/tensorflow/tf-keras-datasets/mnist.npz\n",
            "11493376/11490434 [==============================] - 0s 0us/step\n",
            "11501568/11490434 [==============================] - 0s 0us/step\n"
          ]
        }
      ]
    },
    {
      "cell_type": "code",
      "source": [
        "x_train.shape"
      ],
      "metadata": {
        "colab": {
          "base_uri": "https://localhost:8080/"
        },
        "id": "LgaMJ0soleHx",
        "outputId": "1c27f88f-6bad-4250-c75b-09a396bfebe3"
      },
      "execution_count": 3,
      "outputs": [
        {
          "output_type": "execute_result",
          "data": {
            "text/plain": [
              "(60000, 28, 28)"
            ]
          },
          "metadata": {},
          "execution_count": 3
        }
      ]
    },
    {
      "cell_type": "code",
      "source": [
        "y_train.shape"
      ],
      "metadata": {
        "colab": {
          "base_uri": "https://localhost:8080/"
        },
        "id": "JmldNOeqljji",
        "outputId": "29bf15f4-1439-4af6-f4bf-07f5d429732e"
      },
      "execution_count": 4,
      "outputs": [
        {
          "output_type": "execute_result",
          "data": {
            "text/plain": [
              "(60000,)"
            ]
          },
          "metadata": {},
          "execution_count": 4
        }
      ]
    },
    {
      "cell_type": "code",
      "source": [
        "x_test.shape"
      ],
      "metadata": {
        "colab": {
          "base_uri": "https://localhost:8080/"
        },
        "id": "rqR4uZRllnJE",
        "outputId": "9e23f730-92ed-460a-bec7-86b77491b93b"
      },
      "execution_count": 5,
      "outputs": [
        {
          "output_type": "execute_result",
          "data": {
            "text/plain": [
              "(10000, 28, 28)"
            ]
          },
          "metadata": {},
          "execution_count": 5
        }
      ]
    },
    {
      "cell_type": "code",
      "source": [
        "y_test.shape"
      ],
      "metadata": {
        "colab": {
          "base_uri": "https://localhost:8080/"
        },
        "id": "M1nF3ia7loZs",
        "outputId": "6411e249-76c8-437f-f1fd-e073744097c4"
      },
      "execution_count": 6,
      "outputs": [
        {
          "output_type": "execute_result",
          "data": {
            "text/plain": [
              "(10000,)"
            ]
          },
          "metadata": {},
          "execution_count": 6
        }
      ]
    },
    {
      "cell_type": "markdown",
      "source": [
        "# Data Scaling"
      ],
      "metadata": {
        "id": "FUPvdf2LlwgR"
      }
    },
    {
      "cell_type": "code",
      "source": [
        "x_train = x_train/255.0\n",
        "x_test = x_test/255.0"
      ],
      "metadata": {
        "id": "KNT31Srzlsr8"
      },
      "execution_count": 7,
      "outputs": []
    },
    {
      "cell_type": "markdown",
      "source": [
        "# Data Visualisation"
      ],
      "metadata": {
        "id": "Kmu6tyq3l4JJ"
      }
    },
    {
      "cell_type": "code",
      "source": [
        "plt.imshow(x_train[0], cmap=\"gray\")         # Sample no 1 of test case"
      ],
      "metadata": {
        "colab": {
          "base_uri": "https://localhost:8080/",
          "height": 282
        },
        "id": "plnlqXfRl3DP",
        "outputId": "e55db527-cdca-463f-82cc-12b993b37fe8"
      },
      "execution_count": 8,
      "outputs": [
        {
          "output_type": "execute_result",
          "data": {
            "text/plain": [
              "<matplotlib.image.AxesImage at 0x7ff1b56e9710>"
            ]
          },
          "metadata": {},
          "execution_count": 8
        },
        {
          "output_type": "display_data",
          "data": {
            "text/plain": [
              "<Figure size 432x288 with 1 Axes>"
            ],
            "image/png": "[encoded data removed]"
          },
          "metadata": {
            "needs_background": "light"
          }
        }
      ]
    },
    {
      "cell_type": "code",
      "source": [
        "plt.imshow(x_train[56], cmap=\"gray\")    # Sample no 56 of the testcase"
      ],
      "metadata": {
        "colab": {
          "base_uri": "https://localhost:8080/",
          "height": 282
        },
        "id": "kX3v8HlNmUkw",
        "outputId": "992d9c20-f1f2-4f39-e024-b6d794b037cb"
      },
      "execution_count": 9,
      "outputs": [
        {
          "output_type": "execute_result",
          "data": {
            "text/plain": [
              "<matplotlib.image.AxesImage at 0x7ff1b5247950>"
            ]
          },
          "metadata": {},
          "execution_count": 9
        },
        {
          "output_type": "display_data",
          "data": {
            "text/plain": [
              "<Figure size 432x288 with 1 Axes>"
            ],
            "image/png": "[encoded data removed]"
          },
          "metadata": {
            "needs_background": "light"
          }
        }
      ]
    },
    {
      "cell_type": "code",
      "source": [
        "plt.imshow(x_train[560], cmap=\"gray\")    # Sample no 56 of the testcase"
      ],
      "metadata": {
        "colab": {
          "base_uri": "https://localhost:8080/",
          "height": 282
        },
        "id": "6vKPHaEEmgwv",
        "outputId": "ee2d8d97-d3d6-4726-b65d-d5e360210402"
      },
      "execution_count": 10,
      "outputs": [
        {
          "output_type": "execute_result",
          "data": {
            "text/plain": [
              "<matplotlib.image.AxesImage at 0x7ff1b51be590>"
            ]
          },
          "metadata": {},
          "execution_count": 10
        },
        {
          "output_type": "display_data",
          "data": {
            "text/plain": [
              "<Figure size 432x288 with 1 Axes>"
            ],
            "image/png": "[encoded data removed]"
          },
          "metadata": {
            "needs_background": "light"
          }
        }
      ]
    },
    {
      "cell_type": "markdown",
      "source": [
        "# Building AUTO-ENCODERS"
      ],
      "metadata": {
        "id": "IO8T2BDfmkmW"
      }
    },
    {
      "cell_type": "markdown",
      "source": [
        "### ENCODERS"
      ],
      "metadata": {
        "id": "1xoBujG2mx_2"
      }
    },
    {
      "cell_type": "code",
      "source": [
        "encoder_input = keras.Input(shape=(28, 28, 1), name='img')          # setting enoder input size layer of encoder\n",
        "x = keras.layers.Flatten()(encoder_input)\n",
        "\n",
        "\n",
        "Input_layer = keras.layers.Dense(512, activation=\"relu\")(x)\n",
        "Hidden_layer = keras.layers.Dense(128, activation=\"relu\")(Input_layer)\n",
        "Latent_space = keras.layers.Dense(64, activation=\"relu\")(Hidden_layer)\n",
        "\n",
        "encoder = keras.Model(encoder_input, Latent_space, name='encoder')\n",
        "\n"
      ],
      "metadata": {
        "id": "vK_dXzE9mjuP"
      },
      "execution_count": 11,
      "outputs": []
    },
    {
      "cell_type": "markdown",
      "source": [
        "### DECODER PART"
      ],
      "metadata": {
        "id": "Uex93JgaoPdV"
      }
    },
    {
      "cell_type": "code",
      "source": [
        "decoder_input = keras.layers.Dense(128, activation=\"relu\")(Latent_space)\n",
        "d_Hidden_layer = keras.layers.Dense(512, activation=\"relu\")(decoder_input)\n",
        "d_output = keras.layers.Dense(784, activation=\"relu\")(d_Hidden_layer)\n",
        "\n",
        "decoder_output = keras.layers.Reshape((28, 28, 1))(d_output)"
      ],
      "metadata": {
        "id": "b52DdMJ6oTYd"
      },
      "execution_count": 12,
      "outputs": []
    },
    {
      "cell_type": "markdown",
      "source": [
        "# Model summary"
      ],
      "metadata": {
        "id": "YNO3EBpNv-4G"
      }
    },
    {
      "cell_type": "code",
      "source": [
        "autoencoder = keras.Model(encoder_input, decoder_output, name='autoencoder')\n",
        "autoencoder.summary()            # summary of all the layers "
      ],
      "metadata": {
        "colab": {
          "base_uri": "https://localhost:8080/"
        },
        "id": "6OxgPNa1tHro",
        "outputId": "6777e823-088f-4083-d56a-4d9db72d0183"
      },
      "execution_count": 13,
      "outputs": [
        {
          "output_type": "stream",
          "name": "stdout",
          "text": [
            "Model: \"autoencoder\"\n",
            "_________________________________________________________________\n",
            " Layer (type)                Output Shape              Param #   \n",
            "=================================================================\n",
            " img (InputLayer)            [(None, 28, 28, 1)]       0         \n",
            "                                                                 \n",
            " flatten (Flatten)           (None, 784)               0         \n",
            "                                                                 \n",
            " dense (Dense)               (None, 512)               401920    \n",
            "                                                                 \n",
            " dense_1 (Dense)             (None, 128)               65664     \n",
            "                                                                 \n",
            " dense_2 (Dense)             (None, 64)                8256      \n",
            "                                                                 \n",
            " dense_3 (Dense)             (None, 128)               8320      \n",
            "                                                                 \n",
            " dense_4 (Dense)             (None, 512)               66048     \n",
            "                                                                 \n",
            " dense_5 (Dense)             (None, 784)               402192    \n",
            "                                                                 \n",
            " reshape (Reshape)           (None, 28, 28, 1)         0         \n",
            "                                                                 \n",
            "=================================================================\n",
            "Total params: 952,400\n",
            "Trainable params: 952,400\n",
            "Non-trainable params: 0\n",
            "_________________________________________________________________\n"
          ]
        }
      ]
    },
    {
      "cell_type": "markdown",
      "source": [
        "# Training the Model"
      ],
      "metadata": {
        "id": "gOO8T8vRu7xp"
      }
    },
    {
      "cell_type": "code",
      "source": [
        "opt = tf.keras.optimizers.Adam(lr=0.001, decay=1e-6)        # Adam optimizer\n",
        "autoencoder.compile(opt, loss='mse')                        # Mean Squared error loss"
      ],
      "metadata": {
        "colab": {
          "base_uri": "https://localhost:8080/"
        },
        "id": "3zt-4LXYtahf",
        "outputId": "494c8ac2-80d1-47e3-b995-ac6e4fe6813f"
      },
      "execution_count": 14,
      "outputs": [
        {
          "output_type": "stream",
          "name": "stderr",
          "text": [
            "/usr/local/lib/python3.7/dist-packages/keras/optimizer_v2/adam.py:105: UserWarning: The `lr` argument is deprecated, use `learning_rate` instead.\n",
            "  super(Adam, self).__init__(name, **kwargs)\n"
          ]
        }
      ]
    },
    {
      "cell_type": "code",
      "source": [
        "history = autoencoder.fit( x_train, x_train, validation_data=(x_test, x_test), epochs=5,  batch_size=40, validation_split=0.10 )"
      ],
      "metadata": {
        "colab": {
          "base_uri": "https://localhost:8080/"
        },
        "id": "yffICb6GuCMx",
        "outputId": "d5fbe7a9-c356-4a84-9b2f-1ffae51694f7"
      },
      "execution_count": 15,
      "outputs": [
        {
          "output_type": "stream",
          "name": "stdout",
          "text": [
            "Epoch 1/5\n",
            "1350/1350 [==============================] - 23s 17ms/step - loss: 0.0194 - val_loss: 0.0124\n",
            "Epoch 2/5\n",
            "1350/1350 [==============================] - 15s 11ms/step - loss: 0.0115 - val_loss: 0.0107\n",
            "Epoch 3/5\n",
            "1350/1350 [==============================] - 15s 11ms/step - loss: 0.0102 - val_loss: 0.0101\n",
            "Epoch 4/5\n",
            "1350/1350 [==============================] - 15s 11ms/step - loss: 0.0096 - val_loss: 0.0094\n",
            "Epoch 5/5\n",
            "1350/1350 [==============================] - 15s 11ms/step - loss: 0.0091 - val_loss: 0.0091\n"
          ]
        }
      ]
    },
    {
      "cell_type": "code",
      "source": [
        "plt.imshow(x_test[0], cmap=\"gray\")             # original data "
      ],
      "metadata": {
        "colab": {
          "base_uri": "https://localhost:8080/",
          "height": 282
        },
        "id": "ViG7inzKzGYw",
        "outputId": "105db110-2b6f-41ca-d3ca-989b13d8b19c"
      },
      "execution_count": 16,
      "outputs": [
        {
          "output_type": "execute_result",
          "data": {
            "text/plain": [
              "<matplotlib.image.AxesImage at 0x7ff1acb12c90>"
            ]
          },
          "metadata": {},
          "execution_count": 16
        },
        {
          "output_type": "display_data",
          "data": {
            "text/plain": [
              "<Figure size 432x288 with 1 Axes>"
            ],
            "image/png": "[encoded data removed]"
          },
          "metadata": {
            "needs_background": "light"
          }
        }
      ]
    },
    {
      "cell_type": "code",
      "source": [
        "example = encoder.predict([ x_test[0].reshape(-1, 28, 28, 1) ])\n",
        "class_wise = [ 0.87 , 0.95 , 0.97 , 0.96 , 0.90 , 0.98 , 0.96 , 0.97 , 0.89, 0.94]\n",
        "plt.imshow(example[0].reshape((8,8)), cmap=\"gray\")               # ecoded data"
      ],
      "metadata": {
        "colab": {
          "base_uri": "https://localhost:8080/",
          "height": 282
        },
        "id": "W2BJfqXyy_ZB",
        "outputId": "fe855f99-77ff-4877-e779-799921bd1d50"
      },
      "execution_count": 17,
      "outputs": [
        {
          "output_type": "execute_result",
          "data": {
            "text/plain": [
              "<matplotlib.image.AxesImage at 0x7ff1b125b5d0>"
            ]
          },
          "metadata": {},
          "execution_count": 17
        },
        {
          "output_type": "display_data",
          "data": {
            "text/plain": [
              "<Figure size 432x288 with 1 Axes>"
            ],
            "image/png": "[encoded data removed]"
          },
          "metadata": {
            "needs_background": "light"
          }
        }
      ]
    },
    {
      "cell_type": "code",
      "source": [
        "ae_out = autoencoder.predict([ x_test[0].reshape(-1, 28, 28, 1) ])      # decoder data / output\n",
        "plt.imshow(ae_out[0].reshape((28,28)), cmap=\"gray\")"
      ],
      "metadata": {
        "colab": {
          "base_uri": "https://localhost:8080/",
          "height": 282
        },
        "id": "-y5lKkL8vWvC",
        "outputId": "aba7b755-aa8b-4b00-f2b8-1bb72222b389"
      },
      "execution_count": 18,
      "outputs": [
        {
          "output_type": "execute_result",
          "data": {
            "text/plain": [
              "<matplotlib.image.AxesImage at 0x7ff1b119a4d0>"
            ]
          },
          "metadata": {},
          "execution_count": 18
        },
        {
          "output_type": "display_data",
          "data": {
            "text/plain": [
              "<Figure size 432x288 with 1 Axes>"
            ],
            "image/png": "[encoded data removed]"
          },
          "metadata": {
            "needs_background": "light"
          }
        }
      ]
    },
    {
      "cell_type": "code",
      "source": [
        "# evaluate the model\n",
        "train_acc = autoencoder.evaluate(x_train, x_train, verbose=0)\n",
        "test_acc = autoencoder.evaluate(x_test, x_test, verbose=0)"
      ],
      "metadata": {
        "id": "1liNliKG0L5A"
      },
      "execution_count": 19,
      "outputs": []
    },
    {
      "cell_type": "code",
      "source": [
        "print(\"Loss during training : \", train_acc )\n",
        "print(\"Loss during testing : \", test_acc )"
      ],
      "metadata": {
        "colab": {
          "base_uri": "https://localhost:8080/"
        },
        "id": "UvlY4K060L4Q",
        "outputId": "bc7508e1-7694-4324-c7e2-7d33f8532c24"
      },
      "execution_count": 20,
      "outputs": [
        {
          "output_type": "stream",
          "name": "stdout",
          "text": [
            "Loss during training :  0.008890422992408276\n",
            "Loss during testing :  0.00897013396024704\n"
          ]
        }
      ]
    },
    {
      "cell_type": "code",
      "source": [
        "plt.subplot(211)\n",
        "plt.title('Loss')\n",
        "plt.plot(history.history['loss'], label='train')\n",
        "plt.plot(history.history['val_loss'], label='test')\n",
        "plt.legend()"
      ],
      "metadata": {
        "colab": {
          "base_uri": "https://localhost:8080/",
          "height": 180
        },
        "id": "nqOLcENh0y8q",
        "outputId": "fa53a5f6-b7bd-4982-9c0b-6fd9fd6ec607"
      },
      "execution_count": 21,
      "outputs": [
        {
          "output_type": "execute_result",
          "data": {
            "text/plain": [
              "<matplotlib.legend.Legend at 0x7ff1b10ce190>"
            ]
          },
          "metadata": {},
          "execution_count": 21
        },
        {
          "output_type": "display_data",
          "data": {
            "text/plain": [
              "<Figure size 432x288 with 1 Axes>"
            ],
            "image/png": "[encoded data removed]"
          },
          "metadata": {
            "needs_background": "light"
          }
        }
      ]
    },
    {
      "cell_type": "markdown",
      "source": [
        "# MNIST classification modeL"
      ],
      "metadata": {
        "id": "0PEaSDmX1aEw"
      }
    },
    {
      "cell_type": "markdown",
      "source": [
        "### using the encoder part again"
      ],
      "metadata": {
        "id": "C7ESzuE62GRB"
      }
    },
    {
      "cell_type": "code",
      "source": [
        "(x_train, y_train),(x_test, y_test) = tf.keras.datasets.mnist.load_data()  # loads the popular \"mnist\" training dataset"
      ],
      "metadata": {
        "id": "qNIWupocwE3f"
      },
      "execution_count": 25,
      "outputs": []
    },
    {
      "cell_type": "code",
      "source": [
        "feed_forward = tf.keras.Sequential([\n",
        "                             tf.keras.layers.Flatten(input_shape = (28,28)),\n",
        "                             tf.keras.layers.Dense(512, activation = \"relu\"),\n",
        "                             tf.keras.layers.Dense(128, activation = \"relu\"),\n",
        "                             tf.keras.layers.Dense(64, activation = \"relu\"),\n",
        "                             tf.keras.layers.Dense(32, activation = \"relu\"),\n",
        "                             tf.keras.layers.Dense(10, activation = \"softmax\")\n",
        "])"
      ],
      "metadata": {
        "id": "Ub6KRlaw-eoS"
      },
      "execution_count": 26,
      "outputs": []
    },
    {
      "cell_type": "markdown",
      "source": [
        "# Model Summary "
      ],
      "metadata": {
        "id": "p4BpXStR33MW"
      }
    },
    {
      "cell_type": "code",
      "source": [
        "feed_forward.summary()"
      ],
      "metadata": {
        "colab": {
          "base_uri": "https://localhost:8080/"
        },
        "id": "6r871iyM3gTC",
        "outputId": "30d95af7-806b-4ccf-ff86-cd48fe2e7670"
      },
      "execution_count": 27,
      "outputs": [
        {
          "output_type": "stream",
          "name": "stdout",
          "text": [
            "Model: \"sequential\"\n",
            "_________________________________________________________________\n",
            " Layer (type)                Output Shape              Param #   \n",
            "=================================================================\n",
            " flatten_2 (Flatten)         (None, 784)               0         \n",
            "                                                                 \n",
            " dense_13 (Dense)            (None, 512)               401920    \n",
            "                                                                 \n",
            " dense_14 (Dense)            (None, 128)               65664     \n",
            "                                                                 \n",
            " dense_15 (Dense)            (None, 64)                8256      \n",
            "                                                                 \n",
            " dense_16 (Dense)            (None, 32)                2080      \n",
            "                                                                 \n",
            " dense_17 (Dense)            (None, 10)                330       \n",
            "                                                                 \n",
            "=================================================================\n",
            "Total params: 478,250\n",
            "Trainable params: 478,250\n",
            "Non-trainable params: 0\n",
            "_________________________________________________________________\n"
          ]
        }
      ]
    },
    {
      "cell_type": "code",
      "source": [
        "feed_forward.compile( optimizer= tf.keras.optimizers.SGD(learning_rate=0.1),\n",
        "                      loss = \"categorical_crossentropy\",\n",
        "                      metrics = [\"accuracy\"]\n",
        "                     )\n"
      ],
      "metadata": {
        "id": "5WJAyD8k32KI"
      },
      "execution_count": 28,
      "outputs": []
    },
    {
      "cell_type": "code",
      "source": [
        "from tensorflow.keras.utils import to_categorical                # for one hot encoding of output\n",
        "y_train = to_categorical(y_train)\n",
        "y_test = to_categorical(y_test)"
      ],
      "metadata": {
        "id": "UrZAAKw74EAa"
      },
      "execution_count": 29,
      "outputs": []
    },
    {
      "cell_type": "code",
      "source": [
        "y_test[0]"
      ],
      "metadata": {
        "colab": {
          "base_uri": "https://localhost:8080/"
        },
        "id": "b0daLr_j_GlK",
        "outputId": "771e53c8-8a4b-4fd8-98e0-c0292b426cd8"
      },
      "execution_count": 30,
      "outputs": [
        {
          "output_type": "execute_result",
          "data": {
            "text/plain": [
              "array([0., 0., 0., 0., 0., 0., 0., 1., 0., 0.], dtype=float32)"
            ]
          },
          "metadata": {},
          "execution_count": 30
        }
      ]
    },
    {
      "cell_type": "markdown",
      "source": [
        "# Training the model"
      ],
      "metadata": {
        "id": "Wr-xFul64YPq"
      }
    },
    {
      "cell_type": "code",
      "source": [
        "history = feed_forward.fit(x_train, y_train,validation_data=(x_test, y_test), epochs = 15, batch_size = 40, verbose = 0)"
      ],
      "metadata": {
        "id": "SVmMjpLQ4WFx"
      },
      "execution_count": 31,
      "outputs": []
    },
    {
      "cell_type": "code",
      "source": [
        "# evaluate the model\n",
        "train_acc = feed_forward.evaluate(x_train, y_train, verbose=0)\n",
        "test_acc = feed_forward.evaluate(x_test, y_test, verbose=0)"
      ],
      "metadata": {
        "id": "QTIauFt24rLK"
      },
      "execution_count": 32,
      "outputs": []
    },
    {
      "cell_type": "code",
      "source": [
        "print(\"Loss during training : \", train_acc[0])\n",
        "print(\"Accuray of training : \", train_acc[1])"
      ],
      "metadata": {
        "colab": {
          "base_uri": "https://localhost:8080/"
        },
        "id": "K2SouZWO4rp6",
        "outputId": "76e5b8a7-eda7-46b5-dbf6-c82f5f575f4f"
      },
      "execution_count": 35,
      "outputs": [
        {
          "output_type": "stream",
          "name": "stdout",
          "text": [
            "Loss during training :  nan\n",
            "Accuray of training :  0.9871666878461838\n"
          ]
        }
      ]
    },
    {
      "cell_type": "code",
      "source": [
        "print(\"Loss during testing : \", test_acc[0])\n",
        "print(\"Accuray of testing : \", test_acc[1])"
      ],
      "metadata": {
        "colab": {
          "base_uri": "https://localhost:8080/"
        },
        "id": "J_G_Gdvb4tMc",
        "outputId": "b57e8ddf-70aa-4fd4-fe01-2e8911c6c585"
      },
      "execution_count": 36,
      "outputs": [
        {
          "output_type": "stream",
          "name": "stdout",
          "text": [
            "Loss during testing :  nan\n",
            "Accuray of testing :  0.9799999743700027\n"
          ]
        }
      ]
    },
    {
      "cell_type": "markdown",
      "source": [
        ""
      ],
      "metadata": {
        "id": "BHOqUR_10FYU"
      }
    }
  ]
}